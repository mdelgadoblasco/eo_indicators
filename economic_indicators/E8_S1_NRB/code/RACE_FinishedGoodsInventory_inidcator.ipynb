{
 "cells": [
  {
   "cell_type": "markdown",
   "metadata": {},
   "source": [
    "# Finished Goods Inventory indicator for RACE\n",
    "\n",
    "Indicator E8 is calculated at the logistic areas operated at the production sites such as motor vehicle manufacturing, the large number of metal objects (e.g. machinery, vehicles) produces a strong signature in the radar backscatter signal. The observations are provided by the Synthetic Aperture Radar such as the C-band Copernicus Sentinel-1 satellites (source: [RACE ESA](https://race.esa.int/?indicator=E8&poi=DE5-E8&country=DE))"
   ]
  },
  {
   "cell_type": "markdown",
   "metadata": {},
   "source": [
    "## Importing needed modules"
   ]
  },
  {
   "cell_type": "code",
   "execution_count": 70,
   "metadata": {},
   "outputs": [],
   "source": [
    "#imports\n",
    "%reload_ext autoreload\n",
    "%autoreload 2\n",
    "%matplotlib inline"
   ]
  },
  {
   "cell_type": "code",
   "execution_count": 71,
   "metadata": {},
   "outputs": [],
   "source": [
    "import datetime as dt\n",
    "import os\n",
    "\n",
    "from matplotlib import mlab\n",
    "from shapely import geometry, wkt\n",
    "\n",
    "import geopandas as gpd\n",
    "import matplotlib.pyplot as plt\n",
    "import numpy as np\n",
    "import pandas as pd \n",
    "from datetime import datetime\n",
    "\n",
    "from sentinelhub import (\n",
    "    CRS,\n",
    "    BBox,\n",
    "    DataCollection,\n",
    "    Geometry,\n",
    "    SentinelHubStatistical,\n",
    "    SentinelHubStatisticalDownloadClient,\n",
    "    SHConfig,\n",
    "    parse_time,\n",
    "    geometry,\n",
    "    SentinelHubCatalog,\n",
    "    bbox_to_dimensions,\n",
    ")"
   ]
  },
  {
   "cell_type": "markdown",
   "metadata": {},
   "source": [
    "## SentinelHub account configuration"
   ]
  },
  {
   "cell_type": "code",
   "execution_count": 72,
   "metadata": {},
   "outputs": [],
   "source": [
    "sh_client_id=\"\"\n",
    "sh_client_secret=\"\"\n",
    "\n",
    "if not sh_client_id:\n",
    "    sh_client_id = os.environ[\"SH_CLIENT_ID\"]\n",
    "\n",
    "if not sh_client_secret:\n",
    "    sh_client_secret = os.environ[\"SH_CLIENT_SECRET\"]\n",
    "\n",
    "\n",
    "if not sh_client_id or not sh_client_secret:\n",
    "    raise ValueError(\"No valid Sentinel HUB credentials are available. Plese contact system administrator.\")    \n",
    "    \n",
    "config = SHConfig()\n",
    "\n",
    "config.sh_client_id = sh_client_id\n",
    "config.sh_client_secret = sh_client_secret\n",
    "\n",
    "#OUTPUT_DIR = os.path.join(USR_PATH, \"output\") #local folder\n"
   ]
  },
  {
   "cell_type": "markdown",
   "metadata": {},
   "source": [
    "## Input Parameters\n",
    "Volvo Cars, Ghent, Belgium\n"
   ]
  },
  {
   "cell_type": "code",
   "execution_count": 73,
   "metadata": {
    "tags": [
     "parameters"
    ]
   },
   "outputs": [],
   "source": [
    "aoi = \"POLYGON ((3.754824 51.096633, \\\n",
    "              3.753451 51.096242, \\\n",
    "              3.755747 51.093102, \\\n",
    "              3.755661 51.09511, \\\n",
    "              3.755211 51.094989, \\\n",
    "              3.754953 51.095393, \\\n",
    "              3.755211 51.09608, \\\n",
    "              3.755125 51.0967, \\\n",
    "              3.755447 51.097953, \\\n",
    "              3.755168 51.098048, \\\n",
    "              3.755009 51.097886, \\\n",
    "              3.754116 51.097697, \\\n",
    "              3.754824 51.096633))\"\n",
    "\n",
    "time_period= \"2023-01-01/2023-05-31\"\n",
    "\n",
    "OUTPUT_DIR = \"/home/jovyan/PLES_WORKSPACE/Anca_E8/result-data/e8\" # will be copied to the local folder of the user requesting the data\n"
   ]
  },
  {
   "cell_type": "markdown",
   "metadata": {},
   "source": [
    "### Parameter preparation"
   ]
  },
  {
   "cell_type": "code",
   "execution_count": 74,
   "metadata": {},
   "outputs": [
    {
     "name": "stdout",
     "output_type": "stream",
     "text": [
      "interval: ('2023-01-01T00:00:00Z', '2023-05-31T23:59:59Z')\n",
      "Geometry(POLYGON ((3.754824 51.096633, 3.753451 51.096242, 3.755747 51.093102, 3.755661 51.09511, 3.755211 51.094989, 3.754953 51.095393, 3.755211 51.09608, 3.755125 51.0967, 3.755447 51.097953, 3.755168 51.098048, 3.755009 51.097886, 3.754116 51.097697, 3.754824 51.096633)), crs=CRS('4326'))\n",
      "size: (31, 110)\n",
      "collection: DataCollection.SENTINEL1_IW\n"
     ]
    }
   ],
   "source": [
    "from_to = time_period.split(\"/\")\n",
    "\n",
    "interval = (f'{from_to[0]}T00:00:00Z', f'{from_to[1]}T23:59:59Z')\n",
    "print(f'interval: {interval}')\n",
    "\n",
    "geometry = Geometry(aoi, crs=CRS.WGS84)\n",
    "print(geometry)\n",
    "\n",
    "size = bbox_to_dimensions(geometry.bbox, resolution=5)\n",
    "print(f'size: {size}')\n",
    "\n",
    "collection = DataCollection.SENTINEL1_IW\n",
    "print(f'collection: {collection}')"
   ]
  },
  {
   "cell_type": "markdown",
   "metadata": {},
   "source": [
    "## Evalscript definition\n",
    "Evalscript to retreve the VH channel in linear units"
   ]
  },
  {
   "cell_type": "code",
   "execution_count": 75,
   "metadata": {},
   "outputs": [],
   "source": [
    "#evalscript (linear units)\n",
    "evalscript = \"\"\"\n",
    "//VERSION=3\n",
    "function setup() {\n",
    "  return {\n",
    "    input: [{\n",
    "      bands: [\"VH\", \"dataMask\"]\n",
    "    }],\n",
    "    output: [\n",
    "      {\n",
    "        id: \"default\",\n",
    "        bands: 1\n",
    "      },\n",
    "      {\n",
    "        id: \"dataMask\",\n",
    "        bands: 1\n",
    "      }]\n",
    "  };\n",
    "}\n",
    "\n",
    "function evaluatePixel(samples) {\n",
    "    return {\n",
    "        default: [samples.VH],\n",
    "        dataMask: [samples.dataMask],\n",
    "    };\n",
    "}\n",
    "\n",
    "\"\"\""
   ]
  },
  {
   "cell_type": "markdown",
   "metadata": {},
   "source": [
    "## SentinelHub statistical API request (linear units)\n"
   ]
  },
  {
   "cell_type": "code",
   "execution_count": 76,
   "metadata": {},
   "outputs": [],
   "source": [
    "# Definition of the SentinelHUB statistical API request (linear unit)\n",
    "request = SentinelHubStatistical(\n",
    "    aggregation=SentinelHubStatistical.aggregation(\n",
    "        evalscript=evalscript,\n",
    "        time_interval=interval,\n",
    "        aggregation_interval='P1D', \n",
    "        size=size\n",
    "    ),\n",
    "    input_data=[\n",
    "        SentinelHubStatistical.input_data(\n",
    "            collection,            \n",
    "            other_args={\"dataFilter\": {\"mosaickingOrder\": \"mostRecent\",\"resolution\": \"HIGH\"},\n",
    "                        \"processing\": {\"orthorectify\": \"True\",\"backCoeff\": \"GAMMA0_TERRAIN\",\"demInstance\": \"COPERNICUS\"}},            \n",
    "      ),\n",
    "    ],\n",
    "    geometry=geometry,\n",
    "    config=config\n",
    ")"
   ]
  },
  {
   "cell_type": "code",
   "execution_count": 77,
   "metadata": {},
   "outputs": [],
   "source": [
    "# helper function\n",
    "\n",
    "def stats_to_df(stats_data):\n",
    "    \"\"\"Transform Statistical API response into a pandas.DataFrame\"\"\"\n",
    "    df_data = []\n",
    "\n",
    "    for single_data in stats_data[\"data\"]:\n",
    "        df_entry = {}\n",
    "        is_valid_entry = True\n",
    "\n",
    "        df_entry[\"interval_from\"] = parse_time(single_data[\"interval\"][\"from\"]).date()\n",
    "        df_entry[\"interval_to\"] = parse_time(single_data[\"interval\"][\"to\"]).date()\n",
    "\n",
    "        for output_name, output_data in single_data[\"outputs\"].items():\n",
    "            for band_name, band_values in output_data[\"bands\"].items():\n",
    "\n",
    "                band_stats = band_values[\"stats\"]\n",
    "                if band_stats[\"sampleCount\"] == band_stats[\"noDataCount\"]:\n",
    "                    is_valid_entry = False\n",
    "                    break\n",
    "                band_name='gamma0'\n",
    "                for stat_name, value in band_stats.items():\n",
    "                    col_name = f\"{output_name}_{band_name}_{stat_name}\"\n",
    "                    if stat_name == \"percentiles\":\n",
    "                        for perc, perc_val in value.items():\n",
    "                            perc_col_name = f\"{col_name}_{perc}\"\n",
    "                            df_entry[perc_col_name] = perc_val\n",
    "                    else:\n",
    "                        df_entry[col_name] = value\n",
    "\n",
    "        if is_valid_entry:\n",
    "            df_data.append(df_entry)\n",
    "\n",
    "    return pd.DataFrame(df_data)"
   ]
  },
  {
   "cell_type": "markdown",
   "metadata": {},
   "source": [
    "## Execute statistical API call"
   ]
  },
  {
   "cell_type": "code",
   "execution_count": 78,
   "metadata": {},
   "outputs": [
    {
     "name": "stdout",
     "output_type": "stream",
     "text": [
      "CPU times: user 16.8 ms, sys: 2.73 ms, total: 19.5 ms\n",
      "Wall time: 7.38 s\n"
     ]
    }
   ],
   "source": [
    "%%time\n",
    "\n",
    "stats = request.get_data()[0]"
   ]
  },
  {
   "cell_type": "code",
   "execution_count": 79,
   "metadata": {},
   "outputs": [
    {
     "data": {
      "text/plain": [
       "{'data': [{'interval': {'from': '2023-01-02T00:00:00Z',\n",
       "    'to': '2023-01-03T00:00:00Z'},\n",
       "   'outputs': {'default': {'bands': {'B0': {'stats': {'min': 0.0,\n",
       "        'max': 0.16340191662311554,\n",
       "        'mean': 0.020170348377154566,\n",
       "        'stDev': 0.022850378505722715,\n",
       "        'sampleCount': 3410,\n",
       "        'noDataCount': 2014}}}}}},\n",
       "  {'interval': {'from': '2023-01-11T00:00:00Z', 'to': '2023-01-12T00:00:00Z'},\n",
       "   'outputs': {'default': {'bands': {'B0': {'stats': {'min': 0.00053760054288432,\n",
       "        'max': 0.24312031269073486,\n",
       "        'mean': 0.04211890468930785,\n",
       "        'stDev': 0.03629304571080026,\n",
       "        'sampleCount': 3410,\n",
       "        'noDataCount': 2014}}}}}},\n",
       "  {'interval': {'from': '2023-01-14T00:00:00Z', 'to': '2023-01-15T00:00:00Z'},\n",
       "   'outputs': {'default': {'bands': {'B0': {'stats': {'min': 0.0006729860324412584,\n",
       "        'max': 0.19775378704071045,\n",
       "        'mean': 0.031004727622934405,\n",
       "        'stDev': 0.027735737722442297,\n",
       "        'sampleCount': 3410,\n",
       "        'noDataCount': 2014}}}}}},\n",
       "  {'interval': {'from': '2023-01-23T00:00:00Z', 'to': '2023-01-24T00:00:00Z'},\n",
       "   'outputs': {'default': {'bands': {'B0': {'stats': {'min': 0.0009634400485083461,\n",
       "        'max': 0.2604427635669708,\n",
       "        'mean': 0.037104581457690876,\n",
       "        'stDev': 0.029410454415559686,\n",
       "        'sampleCount': 3410,\n",
       "        'noDataCount': 2014}}}}}},\n",
       "  {'interval': {'from': '2023-01-26T00:00:00Z', 'to': '2023-01-27T00:00:00Z'},\n",
       "   'outputs': {'default': {'bands': {'B0': {'stats': {'min': 0.0,\n",
       "        'max': 0.19697800278663635,\n",
       "        'mean': 0.014065844334907308,\n",
       "        'stDev': 0.017876060166642574,\n",
       "        'sampleCount': 3410,\n",
       "        'noDataCount': 2014}}}}}},\n",
       "  {'interval': {'from': '2023-02-04T00:00:00Z', 'to': '2023-02-05T00:00:00Z'},\n",
       "   'outputs': {'default': {'bands': {'B0': {'stats': {'min': 0.0001648256293265149,\n",
       "        'max': 0.2849183678627014,\n",
       "        'mean': 0.044030191910618834,\n",
       "        'stDev': 0.038471051113867075,\n",
       "        'sampleCount': 3410,\n",
       "        'noDataCount': 2014}}}}}},\n",
       "  {'interval': {'from': '2023-02-07T00:00:00Z', 'to': '2023-02-08T00:00:00Z'},\n",
       "   'outputs': {'default': {'bands': {'B0': {'stats': {'min': 0.0,\n",
       "        'max': 0.29712384939193726,\n",
       "        'mean': 0.027096869881119905,\n",
       "        'stDev': 0.03569749047693281,\n",
       "        'sampleCount': 3410,\n",
       "        'noDataCount': 2014}}}}}},\n",
       "  {'interval': {'from': '2023-02-16T00:00:00Z', 'to': '2023-02-17T00:00:00Z'},\n",
       "   'outputs': {'default': {'bands': {'B0': {'stats': {'min': 0.0004944409593008459,\n",
       "        'max': 0.3378330171108246,\n",
       "        'mean': 0.0458258435200669,\n",
       "        'stDev': 0.0403675600325962,\n",
       "        'sampleCount': 3410,\n",
       "        'noDataCount': 2014}}}}}},\n",
       "  {'interval': {'from': '2023-02-19T00:00:00Z', 'to': '2023-02-20T00:00:00Z'},\n",
       "   'outputs': {'default': {'bands': {'B0': {'stats': {'min': 0.0004193929780740291,\n",
       "        'max': 0.2099660336971283,\n",
       "        'mean': 0.026614709294525835,\n",
       "        'stDev': 0.023548831413114472,\n",
       "        'sampleCount': 3410,\n",
       "        'noDataCount': 2014}}}}}},\n",
       "  {'interval': {'from': '2023-02-28T00:00:00Z', 'to': '2023-03-01T00:00:00Z'},\n",
       "   'outputs': {'default': {'bands': {'B0': {'stats': {'min': 0.0006654243916273117,\n",
       "        'max': 0.3600568175315857,\n",
       "        'mean': 0.047297481470391124,\n",
       "        'stDev': 0.05489599729503184,\n",
       "        'sampleCount': 3410,\n",
       "        'noDataCount': 2014}}}}}},\n",
       "  {'interval': {'from': '2023-03-03T00:00:00Z', 'to': '2023-03-04T00:00:00Z'},\n",
       "   'outputs': {'default': {'bands': {'B0': {'stats': {'min': 0.0,\n",
       "        'max': 0.29821091890335083,\n",
       "        'mean': 0.03507009022842485,\n",
       "        'stDev': 0.04387753391867001,\n",
       "        'sampleCount': 3410,\n",
       "        'noDataCount': 2014}}}}}},\n",
       "  {'interval': {'from': '2023-03-12T00:00:00Z', 'to': '2023-03-13T00:00:00Z'},\n",
       "   'outputs': {'default': {'bands': {'B0': {'stats': {'min': 0.0,\n",
       "        'max': 0.4448762536048889,\n",
       "        'mean': 0.04779726556414885,\n",
       "        'stDev': 0.04985294549104764,\n",
       "        'sampleCount': 3410,\n",
       "        'noDataCount': 2014}}}}}},\n",
       "  {'interval': {'from': '2023-03-15T00:00:00Z', 'to': '2023-03-16T00:00:00Z'},\n",
       "   'outputs': {'default': {'bands': {'B0': {'stats': {'min': 0.0008856073254719377,\n",
       "        'max': 0.37921154499053955,\n",
       "        'mean': 0.02871270166527556,\n",
       "        'stDev': 0.034716001276427405,\n",
       "        'sampleCount': 3410,\n",
       "        'noDataCount': 2014}}}}}},\n",
       "  {'interval': {'from': '2023-03-24T00:00:00Z', 'to': '2023-03-25T00:00:00Z'},\n",
       "   'outputs': {'default': {'bands': {'B0': {'stats': {'min': 0.0,\n",
       "        'max': 0.23608514666557312,\n",
       "        'mean': 0.0243165254313782,\n",
       "        'stDev': 0.032566251029009466,\n",
       "        'sampleCount': 3410,\n",
       "        'noDataCount': 2014}}}}}},\n",
       "  {'interval': {'from': '2023-03-27T00:00:00Z', 'to': '2023-03-28T00:00:00Z'},\n",
       "   'outputs': {'default': {'bands': {'B0': {'stats': {'min': 0.0,\n",
       "        'max': 0.23828335106372833,\n",
       "        'mean': 0.01775118943566635,\n",
       "        'stDev': 0.018320137752728106,\n",
       "        'sampleCount': 3410,\n",
       "        'noDataCount': 2014}}}}}},\n",
       "  {'interval': {'from': '2023-04-05T00:00:00Z', 'to': '2023-04-06T00:00:00Z'},\n",
       "   'outputs': {'default': {'bands': {'B0': {'stats': {'min': 0.0,\n",
       "        'max': 0.45296838879585266,\n",
       "        'mean': 0.03900137488058902,\n",
       "        'stDev': 0.04202459387819732,\n",
       "        'sampleCount': 3410,\n",
       "        'noDataCount': 2014}}}}}},\n",
       "  {'interval': {'from': '2023-04-08T00:00:00Z', 'to': '2023-04-09T00:00:00Z'},\n",
       "   'outputs': {'default': {'bands': {'B0': {'stats': {'min': 0.0,\n",
       "        'max': 0.2152615636587143,\n",
       "        'mean': 0.022333543463880293,\n",
       "        'stDev': 0.026202080323672713,\n",
       "        'sampleCount': 3410,\n",
       "        'noDataCount': 2014}}}}}},\n",
       "  {'interval': {'from': '2023-04-17T00:00:00Z', 'to': '2023-04-18T00:00:00Z'},\n",
       "   'outputs': {'default': {'bands': {'B0': {'stats': {'min': 0.002032041549682617,\n",
       "        'max': 0.5498997569084167,\n",
       "        'mean': 0.044835481947130516,\n",
       "        'stDev': 0.04601284805089234,\n",
       "        'sampleCount': 3410,\n",
       "        'noDataCount': 2014}}}}}},\n",
       "  {'interval': {'from': '2023-04-20T00:00:00Z', 'to': '2023-04-21T00:00:00Z'},\n",
       "   'outputs': {'default': {'bands': {'B0': {'stats': {'min': 0.0,\n",
       "        'max': 0.16349147260189056,\n",
       "        'mean': 0.02873210008248631,\n",
       "        'stDev': 0.023935063075955932,\n",
       "        'sampleCount': 3410,\n",
       "        'noDataCount': 2014}}}}}},\n",
       "  {'interval': {'from': '2023-04-29T00:00:00Z', 'to': '2023-04-30T00:00:00Z'},\n",
       "   'outputs': {'default': {'bands': {'B0': {'stats': {'min': 0.0006535442662425339,\n",
       "        'max': 0.47605401277542114,\n",
       "        'mean': 0.03541633579179504,\n",
       "        'stDev': 0.040027245171222525,\n",
       "        'sampleCount': 3410,\n",
       "        'noDataCount': 2014}}}}}},\n",
       "  {'interval': {'from': '2023-05-02T00:00:00Z', 'to': '2023-05-03T00:00:00Z'},\n",
       "   'outputs': {'default': {'bands': {'B0': {'stats': {'min': 0.0,\n",
       "        'max': 0.17263391613960266,\n",
       "        'mean': 0.02240079491528319,\n",
       "        'stDev': 0.020896857186153875,\n",
       "        'sampleCount': 3410,\n",
       "        'noDataCount': 2014}}}}}},\n",
       "  {'interval': {'from': '2023-05-11T00:00:00Z', 'to': '2023-05-12T00:00:00Z'},\n",
       "   'outputs': {'default': {'bands': {'B0': {'stats': {'min': 0.00099738291464746,\n",
       "        'max': 0.5997887849807739,\n",
       "        'mean': 0.04238483274904582,\n",
       "        'stDev': 0.04961376767103343,\n",
       "        'sampleCount': 3410,\n",
       "        'noDataCount': 2014}}}}}},\n",
       "  {'interval': {'from': '2023-05-14T00:00:00Z', 'to': '2023-05-15T00:00:00Z'},\n",
       "   'outputs': {'default': {'bands': {'B0': {'stats': {'min': 0.0,\n",
       "        'max': 0.1937440186738968,\n",
       "        'mean': 0.027808189507421043,\n",
       "        'stDev': 0.02670213142682897,\n",
       "        'sampleCount': 3410,\n",
       "        'noDataCount': 2014}}}}}},\n",
       "  {'interval': {'from': '2023-05-23T00:00:00Z', 'to': '2023-05-24T00:00:00Z'},\n",
       "   'outputs': {'default': {'bands': {'B0': {'stats': {'min': 0.00015107712533790618,\n",
       "        'max': 0.7867693305015564,\n",
       "        'mean': 0.038771781861980645,\n",
       "        'stDev': 0.04988185161692733,\n",
       "        'sampleCount': 3410,\n",
       "        'noDataCount': 2014}}}}}},\n",
       "  {'interval': {'from': '2023-05-26T00:00:00Z', 'to': '2023-05-27T00:00:00Z'},\n",
       "   'outputs': {'default': {'bands': {'B0': {'stats': {'min': 0.0,\n",
       "        'max': 0.13981038331985474,\n",
       "        'mean': 0.02774544701894828,\n",
       "        'stDev': 0.0230227049374178,\n",
       "        'sampleCount': 3410,\n",
       "        'noDataCount': 2014}}}}}}],\n",
       " 'status': 'OK'}"
      ]
     },
     "execution_count": 79,
     "metadata": {},
     "output_type": "execute_result"
    }
   ],
   "source": [
    "stats"
   ]
  },
  {
   "cell_type": "markdown",
   "metadata": {},
   "source": [
    "# Convert to Dataframe"
   ]
  },
  {
   "cell_type": "code",
   "execution_count": 80,
   "metadata": {},
   "outputs": [
    {
     "data": {
      "text/html": [
       "<div>\n",
       "<style scoped>\n",
       "    .dataframe tbody tr th:only-of-type {\n",
       "        vertical-align: middle;\n",
       "    }\n",
       "\n",
       "    .dataframe tbody tr th {\n",
       "        vertical-align: top;\n",
       "    }\n",
       "\n",
       "    .dataframe thead th {\n",
       "        text-align: right;\n",
       "    }\n",
       "</style>\n",
       "<table border=\"1\" class=\"dataframe\">\n",
       "  <thead>\n",
       "    <tr style=\"text-align: right;\">\n",
       "      <th></th>\n",
       "      <th>Acquisition date</th>\n",
       "      <th>mean_gamma0</th>\n",
       "    </tr>\n",
       "  </thead>\n",
       "  <tbody>\n",
       "    <tr>\n",
       "      <th>0</th>\n",
       "      <td>2023-01-02</td>\n",
       "      <td>0.020170</td>\n",
       "    </tr>\n",
       "    <tr>\n",
       "      <th>1</th>\n",
       "      <td>2023-01-11</td>\n",
       "      <td>0.042119</td>\n",
       "    </tr>\n",
       "    <tr>\n",
       "      <th>2</th>\n",
       "      <td>2023-01-14</td>\n",
       "      <td>0.031005</td>\n",
       "    </tr>\n",
       "    <tr>\n",
       "      <th>3</th>\n",
       "      <td>2023-01-23</td>\n",
       "      <td>0.037105</td>\n",
       "    </tr>\n",
       "    <tr>\n",
       "      <th>4</th>\n",
       "      <td>2023-01-26</td>\n",
       "      <td>0.014066</td>\n",
       "    </tr>\n",
       "  </tbody>\n",
       "</table>\n",
       "</div>"
      ],
      "text/plain": [
       "  Acquisition date  mean_gamma0\n",
       "0       2023-01-02     0.020170\n",
       "1       2023-01-11     0.042119\n",
       "2       2023-01-14     0.031005\n",
       "3       2023-01-23     0.037105\n",
       "4       2023-01-26     0.014066"
      ]
     },
     "execution_count": 80,
     "metadata": {},
     "output_type": "execute_result"
    }
   ],
   "source": [
    "#convert statistical data to pandas dataframe\n",
    "df = stats_to_df(stats)\n",
    "df=df[['interval_from','default_gamma0_mean']]\n",
    "df.rename(columns = {'interval_from':'Acquisition date','default_gamma0_mean':'mean_gamma0'}, inplace = True)\n",
    "df.head()"
   ]
  },
  {
   "cell_type": "markdown",
   "metadata": {},
   "source": [
    "## Removing outliers"
   ]
  },
  {
   "cell_type": "code",
   "execution_count": 81,
   "metadata": {},
   "outputs": [],
   "source": [
    "def remove_and_interpolate_outliers(df):\n",
    "    import pandas as pd\n",
    "    import numpy as np\n",
    "    # Read stats file\n",
    "    \n",
    "    # create thresholds\n",
    "    min_threshold, max_threshold = df['mean_gamma0'].quantile([0.01,0.99])\n",
    "    \n",
    "    # create a new dataframe excluding the outlier rows\n",
    "    outlier_removed = df[(df['mean_gamma0'] < max_threshold)&(df['mean_gamma0'] > min_threshold)]\n",
    "    outliersId = df[(df['mean_gamma0'] >= max_threshold) | (df['mean_gamma0'] <= min_threshold)].index\n",
    "    \n",
    "    # diplay the shape of new dataset\n",
    "    print(outlier_removed.shape)\n",
    "    # the orignal shape \n",
    "    print(df.shape)\n",
    "    \n",
    "    df2=df.copy()\n",
    "    # fill with nans\n",
    "    df2.loc[outliersId,['mean_gamma0']]=np.nan\n",
    "    # interpolate nans\n",
    "    outlier_rem_interp = df2.interpolate(method='nearest',order=2)\n",
    "    return outlier_rem_interp\n"
   ]
  },
  {
   "cell_type": "code",
   "execution_count": null,
   "metadata": {},
   "outputs": [],
   "source": [
    "df_filt=remove_and_interpolate_outlier(df)"
   ]
  },
  {
   "cell_type": "markdown",
   "metadata": {},
   "source": [
    "## Exporting results"
   ]
  },
  {
   "cell_type": "code",
   "execution_count": 83,
   "metadata": {},
   "outputs": [],
   "source": [
    "df.to_csv(os.path.join(OUTPUT_DIR,'average_gamma0_time_series.csv'),index=False)"
   ]
  },
  {
   "cell_type": "code",
   "execution_count": 84,
   "metadata": {},
   "outputs": [
    {
     "data": {
      "image/png": "[encoded data removed]",
      "text/plain": [
       "<Figure size 1440x720 with 1 Axes>"
      ]
     },
     "metadata": {
      "needs_background": "light"
     },
     "output_type": "display_data"
    }
   ],
   "source": [
    "import matplotlib.pyplot as plt\n",
    "import matplotlib\n",
    "\n",
    "fig = df_filt.plot(x='Acquisition date', figsize=(20, 10), fontsize=10).get_figure()\n",
    "plt.title('Time series of normalized radar backscatter [gamma0]')\n",
    "plt.ylabel('gamma0')\n",
    "fig.savefig(os.path.join(OUTPUT_DIR,'average_gamma0_time_series.pdf'))"
   ]
  },
  {
   "cell_type": "code",
   "execution_count": null,
   "metadata": {},
   "outputs": [],
   "source": []
  },
  {
   "cell_type": "code",
   "execution_count": null,
   "metadata": {},
   "outputs": [],
   "source": []
  }
 ],
 "metadata": {
  "kernelspec": {
   "display_name": "flying_airplanes",
   "language": "python",
   "name": "flying_airplanes"
  },
  "language_info": {
   "codemirror_mode": {
    "name": "ipython",
    "version": 3
   },
   "file_extension": ".py",
   "mimetype": "text/x-python",
   "name": "python",
   "nbconvert_exporter": "python",
   "pygments_lexer": "ipython3",
   "version": "3.7.6"
  }
 },
 "nbformat": 4,
 "nbformat_minor": 4
}
